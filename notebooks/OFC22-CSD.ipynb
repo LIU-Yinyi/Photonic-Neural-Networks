{
 "cells": [
  {
   "cell_type": "markdown",
   "id": "2d18860d",
   "metadata": {},
   "source": [
    "# Reduce Footprints of Multiport Interferometers by CSD\n",
    "![](https://shields.io/badge/conference-OFC'22-blue)\n",
    "- **Date:** Dec 6, 2021\n",
    "- **Author:** Yinyi LIU\n",
    "- **Version:** 0.1.0\n",
    "- **Abstract:** We present a novel 3D-unfolding method based on Cosine-Sine-Decomposition (CSD) to enable an alternative arrangement of unitary blocks towards plane normal, which reduces the planar footprints of universal multiport interferometers exponentially."
   ]
  },
  {
   "cell_type": "code",
   "execution_count": 1,
   "id": "748a67da",
   "metadata": {
    "ExecuteTime": {
     "end_time": "2021-12-04T01:33:13.676708Z",
     "start_time": "2021-12-04T01:33:13.219431Z"
    }
   },
   "outputs": [],
   "source": [
    "import scipy\n",
    "import numpy as np\n",
    "from scipy.linalg import cossin\n",
    "from scipy.stats import unitary_group\n",
    "from matplotlib import pyplot as plt"
   ]
  },
  {
   "cell_type": "markdown",
   "id": "378f3d60",
   "metadata": {},
   "source": [
    "## Preliminary\n",
    "Cosine-Sine Decomposition\n",
    "\n",
    "$\t\n",
    "\\begin{bmatrix}\n",
    "    U_1^T & 0 \\\\\n",
    "    0 & U_2^T\n",
    "\\end{bmatrix}\n",
    "\\begin{bmatrix}\n",
    "    M_{1,1} & M_{1,2} \\\\\n",
    "    M_{2,1} & M_{2,2}\n",
    "\\end{bmatrix}\n",
    "\\begin{bmatrix}\n",
    "    V_1 & 0 \\\\\n",
    "    0 & V_2\n",
    "\\end{bmatrix}\n",
    "= \n",
    "\\begin{bmatrix}\n",
    "    C & -S & 0 \\\\\n",
    "    S & C & 0 \\\\\n",
    "    0 & 0 & I_{n-2p} \\\\\n",
    "\\end{bmatrix}\n",
    "$"
   ]
  },
  {
   "cell_type": "markdown",
   "id": "4ac89a2d",
   "metadata": {},
   "source": [
    "### Generate Unitary Matrices"
   ]
  },
  {
   "cell_type": "code",
   "execution_count": 2,
   "id": "0fd00d58",
   "metadata": {
    "ExecuteTime": {
     "end_time": "2021-12-04T01:33:15.020405Z",
     "start_time": "2021-12-04T01:33:15.014355Z"
    }
   },
   "outputs": [],
   "source": [
    "# Random Arbitrary Matrix\n",
    "mat = np.random.randn(4, 5)\n",
    "\n",
    "# Singular Value Decomposition\n",
    "[u, s, v] = np.linalg.svd(mat)"
   ]
  },
  {
   "cell_type": "markdown",
   "id": "3d94b67c",
   "metadata": {},
   "source": [
    "### CS-Decompose the Unitary Matrix\n",
    "\n",
    "$\n",
    "U_u = \n",
    "\\begin{bmatrix}\n",
    "   U_1 & 0 \\\\\n",
    "   0 & U_2\n",
    "\\end{bmatrix}\n",
    "$\n",
    "\n",
    "$\n",
    "\\Theta_{cs} = \n",
    "\\begin{bmatrix}\n",
    "   cos(\\theta) & -sin(\\theta) \\\\\n",
    "   sin(\\theta) & cos(\\theta)\n",
    "\\end{bmatrix}\n",
    "$\n",
    "\n",
    "$\n",
    "V^H = \n",
    "\\begin{bmatrix}\n",
    "   V_1^H & 0 \\\\\n",
    "   0 & V_2^H\n",
    "\\end{bmatrix}\n",
    "$"
   ]
  },
  {
   "cell_type": "code",
   "execution_count": 3,
   "id": "750bd339",
   "metadata": {
    "ExecuteTime": {
     "end_time": "2021-12-04T01:33:16.142559Z",
     "start_time": "2021-12-04T01:33:16.136850Z"
    }
   },
   "outputs": [],
   "source": [
    "# Separate Output\n",
    "(u1, u2), theta, (v1h, v2h) = cossin(u, p=2, q=2, separate=True)\n",
    "\n",
    "# Unified Output\n",
    "[uu, cs, vh] = cossin(u, p=2, q=2)"
   ]
  },
  {
   "cell_type": "markdown",
   "id": "fb37510f",
   "metadata": {},
   "source": [
    "#### Unit Test: Separated vs Combined"
   ]
  },
  {
   "cell_type": "code",
   "execution_count": 4,
   "id": "2d1e1818",
   "metadata": {
    "ExecuteTime": {
     "end_time": "2021-12-04T01:33:17.212441Z",
     "start_time": "2021-12-04T01:33:17.198980Z"
    }
   },
   "outputs": [],
   "source": [
    "# Verification\n",
    "b11 = u1 @ np.diag(np.cos(theta)) @ v1h\n",
    "b12 = u1 @ np.diag(-np.sin(theta)) @ v2h\n",
    "b21 = u2 @ np.diag(np.sin(theta)) @ v1h\n",
    "b22 = u2 @ np.diag(np.cos(theta)) @ v2h\n",
    "\n",
    "assert np.allclose(u[:2, :2], b11)\n",
    "assert np.allclose(u[:2, 2:], b12)\n",
    "assert np.allclose(u[2:, :2], b21)\n",
    "assert np.allclose(u[2:, 2:], b22)"
   ]
  },
  {
   "cell_type": "markdown",
   "id": "f2dc3a8c",
   "metadata": {},
   "source": [
    "#### Unit Test: Column-Merged Form"
   ]
  },
  {
   "cell_type": "code",
   "execution_count": 5,
   "id": "2d14ab90",
   "metadata": {
    "ExecuteTime": {
     "end_time": "2021-12-04T01:33:18.267842Z",
     "start_time": "2021-12-04T01:33:18.258185Z"
    }
   },
   "outputs": [],
   "source": [
    "# Output All\n",
    "vec = np.random.randn(4, 1)\n",
    "out = u @ vec\n",
    "\n",
    "# Output Port [0-1]\n",
    "out1 = np.concatenate(\n",
    "        (u1 @ np.diag(np.cos(theta)) @ v1h,\n",
    "        u1 @ np.diag(-np.sin(theta)) @ v2h),\n",
    "    axis=1) @ vec\n",
    "\n",
    "# Output Port [2-3]\n",
    "out2 = np.concatenate(\n",
    "        (u2 @ np.diag(np.sin(theta)) @ v1h,\n",
    "        u2 @ np.diag(np.cos(theta)) @ v2h),\n",
    "    axis=1) @ vec\n",
    "\n",
    "assert np.allclose(out[:2], out1)\n",
    "assert np.allclose(out[2:], out2)"
   ]
  },
  {
   "cell_type": "markdown",
   "id": "8820eb60",
   "metadata": {},
   "source": [
    "#### Unit Test: Successive-Reconstruction Form"
   ]
  },
  {
   "cell_type": "code",
   "execution_count": 6,
   "id": "5c5d6a2e",
   "metadata": {
    "ExecuteTime": {
     "end_time": "2021-12-04T01:33:19.346931Z",
     "start_time": "2021-12-04T01:33:19.336965Z"
    }
   },
   "outputs": [],
   "source": [
    "# Propagate along V^H (horizontal)\n",
    "v1h_out = v1h @ vec[:2]\n",
    "v2h_out = v2h @ vec[2:]\n",
    "\n",
    "# Rearrange Input Vectors for CS\n",
    "cs1_in = np.concatenate((v1h_out[0], v2h_out[0])).reshape(2, 1)\n",
    "cs2_in = np.concatenate((v1h_out[1], v2h_out[1])).reshape(2, 1)\n",
    "\n",
    "# Recover CS Transfer Matrices \n",
    "cs1 = np.array([\n",
    "    [np.cos(theta[0]), -np.sin(theta[0])],\n",
    "    [np.sin(theta[0]), np.cos(theta[0])]\n",
    "])\n",
    "cs2 = np.array([\n",
    "    [np.cos(theta[1]), -np.sin(theta[1])],\n",
    "    [np.sin(theta[1]), np.cos(theta[1])]\n",
    "])\n",
    "\n",
    "# Propagate along CS (vertical)\n",
    "cs1_out = cs1 @ cs1_in\n",
    "cs2_out = cs2 @ cs2_in\n",
    "\n",
    "# Rearrange Input Vectors for U\n",
    "uu1_in = np.concatenate((cs1_out[0], cs2_out[0])).reshape(2, 1)\n",
    "uu2_in = np.concatenate((cs1_out[1], cs2_out[1])).reshape(2, 1)\n",
    "\n",
    "# Propagate along U (horizontal)\n",
    "uu1_out = u1 @ uu1_in\n",
    "uu2_out = u2 @ uu2_in\n",
    "\n",
    "assert np.allclose(out1, uu1_out)\n",
    "assert np.allclose(out2, uu2_out)"
   ]
  },
  {
   "cell_type": "markdown",
   "id": "5c1ab02e",
   "metadata": {},
   "source": [
    "## Planar Decomposition Methods\n",
    "- [x] Reck's $^{[1]}$\n",
    "- [x] Clements' $^{[2]}$\n",
    "\n",
    "**References**    \n",
    "[1] Reck, Michael, et al. \"Experimental realization of any discrete unitary operator.\" Physical review letters 73.1 (1994): 58.    \n",
    "[2] Clements, William R., et al. \"Optimal design for universal multiport interferometers.\" Optica 3.12 (2016): 1460-1465."
   ]
  },
  {
   "cell_type": "markdown",
   "id": "901f0a37",
   "metadata": {},
   "source": [
    "### Helper Functions"
   ]
  },
  {
   "cell_type": "code",
   "execution_count": 7,
   "id": "a624b7de",
   "metadata": {
    "ExecuteTime": {
     "end_time": "2021-12-04T01:45:44.349408Z",
     "start_time": "2021-12-04T01:45:44.329337Z"
    }
   },
   "outputs": [],
   "source": [
    "def atan2f(y, x, tolerance=1e-6, to_degree=False):\n",
    "    zero_y = np.abs(y) <= tolerance\n",
    "    zero_x = np.abs(x) <= tolerance\n",
    "    if zero_x and zero_y:\n",
    "        rad = 0\n",
    "    elif zero_x and (not zero_y):\n",
    "        rad = np.pi/2 if y > tolerance else -np.pi/2\n",
    "    elif (not zero_x) and zero_y:\n",
    "        rad = 0 if x > tolerance else np.pi\n",
    "    else:\n",
    "        rad = np.arctan2(y, x)\n",
    "    if to_degree:\n",
    "        return np.rad2deg(rad)\n",
    "    else:\n",
    "        return rad\n",
    "    \n",
    "\n",
    "def angle_diff(comp_src, comp_dst, offset=0, tolerance=1e-6, wrap=True, to_degree=False):\n",
    "    zero_src = np.abs(comp_src) <= tolerance\n",
    "    zero_dst = np.abs(comp_dst) <= tolerance\n",
    "    if zero_src and zero_dst:\n",
    "        rad = 0\n",
    "    elif zero_src and (not zero_dst):\n",
    "        rad = np.angle(comp_dst)\n",
    "    elif (not zero_src) and zero_dst:\n",
    "        rad = -np.angle(comp_src)\n",
    "    else:\n",
    "        rad = np.angle(comp_dst) - np.angle(comp_src)\n",
    "    rad += offset\n",
    "    if wrap:\n",
    "        rad = np.mod(rad, 2 * np.pi)\n",
    "    if to_degree:\n",
    "        return np.rad2deg(rad)\n",
    "    else:\n",
    "        return rad"
   ]
  },
  {
   "cell_type": "markdown",
   "id": "1c2f3b6d",
   "metadata": {},
   "source": [
    "### Types of Unitary Blocks\n",
    "- [x] Beam Splitter\n",
    "- [x] Mach Zehnder Interferometer"
   ]
  },
  {
   "cell_type": "code",
   "execution_count": 11,
   "id": "5198f446",
   "metadata": {
    "ExecuteTime": {
     "end_time": "2021-12-04T02:02:55.093742Z",
     "start_time": "2021-12-04T02:02:55.079954Z"
    }
   },
   "outputs": [],
   "source": [
    "def U2BS(dim, m, n, phi, theta, use_sym=False, Lp=1, Lc=1):\n",
    "    assert m < n < dim\n",
    "    if use_sym:\n",
    "        mat = sp.eye(dim)\n",
    "        mat[m, m] = sp.sqrt(Lp) * sp.exp(sp.I * phi) * sp.cos(theta)\n",
    "        mat[m, n] = sp.sqrt(Lc) * sp.I * sp.sin(theta)\n",
    "        mat[n, m] = sp.sqrt(Lc) * sp.I * sp.exp(sp.I * phi) * sp.sin(theta)\n",
    "        mat[n, n] = sp.sqrt(Lp) * sp.cos(theta)\n",
    "    else:\n",
    "        mat = np.eye(dim, dtype=np.complex128)\n",
    "        mat[m, m] = np.sqrt(Lp) * np.exp(1j * phi) * np.cos(theta)\n",
    "        mat[m, n] = np.sqrt(Lc) * 1j * np.sin(theta)\n",
    "        mat[n, m] = np.sqrt(Lc) * 1j * np.exp(1j * phi) * np.sin(theta)\n",
    "        mat[n, n] = np.sqrt(Lp) * np.cos(theta)\n",
    "    return mat\n",
    "\n",
    "\n",
    "def U2MZI(dim, m, n, phi, theta, use_sym=False, Lp=1, Lc=1):\n",
    "    assert m < n < dim\n",
    "    if use_sym:\n",
    "        mat = sp.eye(dim)\n",
    "        mat[m, m] = sp.sqrt(Lp) * sp.I * sp.exp(sp.I * phi) * sp.sin(theta)\n",
    "        mat[m, n] = sp.sqrt(Lc) * sp.I * sp.cos(theta)\n",
    "        mat[n, m] = sp.sqrt(Lc) * sp.I * sp.exp(sp.I * phi) * sp.cos(theta)\n",
    "        mat[n, n] = -sp.sqrt(Lp) * sp.I * sp.sin(theta)\n",
    "    else:\n",
    "        mat = np.eye(dim, dtype=np.complex128)\n",
    "        mat[m, m] = np.sqrt(Lp) * 1j * np.exp(1j * phi) * np.sin(theta)\n",
    "        mat[m, n] = np.sqrt(Lc) * 1j * np.cos(theta)\n",
    "        mat[n, m] = np.sqrt(Lc) * 1j * np.exp(1j * phi) * np.cos(theta)\n",
    "        mat[n, n] = -np.sqrt(Lp) * 1j * np.sin(theta)\n",
    "    return mat"
   ]
  },
  {
   "cell_type": "markdown",
   "id": "76cefa56",
   "metadata": {},
   "source": [
    "### Reck's Method"
   ]
  },
  {
   "cell_type": "code",
   "execution_count": 12,
   "id": "4a9d28d4",
   "metadata": {
    "ExecuteTime": {
     "end_time": "2021-12-04T02:02:56.720936Z",
     "start_time": "2021-12-04T02:02:56.703487Z"
    }
   },
   "outputs": [],
   "source": [
    "def decompose_reck(u, block='bs'):\n",
    "    assert isinstance(u, np.ndarray)\n",
    "    assert isinstance(block, str) and block.strip().lower() in ['bs', 'mzi']\n",
    "    if len(u.shape) != 2:\n",
    "        raise ValueError(\"U(N) should be 2-dimension matrix.\")\n",
    "        \n",
    "    if u.shape[0] != u.shape[1]:\n",
    "        raise ValueError(\"U(N) should be a square matrix.\")\n",
    "        \n",
    "    mat = u.copy().astype(np.complex128)\n",
    "    dim = mat.shape[0]\n",
    "    num = int(dim * (dim - 1) / 2)\n",
    "    phis = np.zeros(num)\n",
    "    thetas = np.zeros(num)\n",
    "    alphas = np.zeros(dim)\n",
    "    index = 0\n",
    "    for p in range(1, dim):\n",
    "        x = dim - p\n",
    "        for q in range(dim-p, 0, -1):\n",
    "            y = q - 1\n",
    "            if block == 'bs':\n",
    "                thetas[index] = atan2f(np.abs(mat[x,y]), np.abs(mat[x,x]))\n",
    "                phis[index] = angle_diff(mat[x,x], mat[x,y], offset=-np.pi/2)\n",
    "                U2block = U2BS\n",
    "            elif block == 'mzi':\n",
    "                thetas[index] = np.pi/2 - atan2f(np.abs(mat[x,y]), np.abs(mat[x,x]))\n",
    "                phis[index] = angle_diff(mat[x,x], mat[x,y], offset=np.pi)\n",
    "                U2block = U2MZI\n",
    "            mat = mat @ U2block(dim, y, x, phis[index], thetas[index]).conj().T\n",
    "            index += 1\n",
    "    for i in range(dim):\n",
    "        alphas[i] = np.angle(mat[i, i])\n",
    "    return phis, thetas, alphas\n",
    "\n",
    "\n",
    "def reconstruct_reck(phis, thetas, alphas, block='bs', Lp_dB=0, Lc_dB=0):\n",
    "    assert len(phis.squeeze().shape) == 1\n",
    "    assert len(thetas.squeeze().shape) == 1\n",
    "    assert len(alphas.squeeze().shape) == 1\n",
    "    assert phis.squeeze().shape[0] == thetas.squeeze().shape[0]\n",
    "    assert isinstance(block, str) and block.strip().lower() in ['bs', 'mzi']\n",
    "    if block == 'bs':\n",
    "        U2block = U2BS\n",
    "    elif block == 'mzi':\n",
    "        U2block = U2MZI\n",
    "    \n",
    "    num = thetas.squeeze().shape[0]\n",
    "    dim = int((1 + np.sqrt(1 + 8 * num))/ 2)\n",
    "    assert alphas.squeeze().shape[0] == dim\n",
    "    \n",
    "    Lp = 10 ** (Lp_dB / 10)\n",
    "    Lc = 10 ** (Lc_dB / 10)\n",
    "    \n",
    "    mat = np.diag(np.exp(1j * alphas))\n",
    "    index = num\n",
    "    for p in range(1, dim):\n",
    "        for q in range(p):\n",
    "            index -= 1\n",
    "            mat = mat @ U2block(dim, q, p, phis[index], thetas[index], Lp=Lp, Lc=Lc)\n",
    "    return mat"
   ]
  },
  {
   "cell_type": "markdown",
   "id": "3c86d6e4",
   "metadata": {},
   "source": [
    "### Clements' Method"
   ]
  },
  {
   "cell_type": "code",
   "execution_count": 26,
   "id": "57329ac7",
   "metadata": {
    "ExecuteTime": {
     "end_time": "2021-12-04T04:41:42.542091Z",
     "start_time": "2021-12-04T04:41:42.509376Z"
    }
   },
   "outputs": [],
   "source": [
    "def decompose_clements(u, block='bs'):\n",
    "    assert isinstance(u, np.ndarray)\n",
    "    assert isinstance(block, str) and block.strip().lower() in ['bs', 'mzi']\n",
    "    if len(u.shape) != 2:\n",
    "        raise ValueError(\"U(N) should be 2-dimension matrix.\")\n",
    "        \n",
    "    if u.shape[0] != u.shape[1]:\n",
    "        raise ValueError(\"U(N) should be a square matrix.\")\n",
    "        \n",
    "    mat = u.copy().astype(np.complex128)\n",
    "    dim = mat.shape[0]\n",
    "    \n",
    "    row = dim - 1\n",
    "    col = int(np.ceil(dim / 2))\n",
    "    \n",
    "    cnt_fore = np.zeros(row, dtype=int)\n",
    "    cnt_back = np.ones(row, dtype=int) * (col - 1)\n",
    "    if dim % 2 == 1:\n",
    "        cnt_back[1::2] = col - 2\n",
    "    \n",
    "    phis = np.zeros((row, col))\n",
    "    thetas = np.zeros((row, col))\n",
    "    alphas = np.zeros(dim)\n",
    "    \n",
    "    for p in range(dim-1):\n",
    "        for q in range(p+1):\n",
    "            if p % 2 == 0:\n",
    "                x = dim - 1 - q\n",
    "                y = p - q\n",
    "                if block == 'bs':\n",
    "                    theta = atan2f(np.abs(mat[x,y]), np.abs(mat[x,y+1]))\n",
    "                    phi = angle_diff(mat[x,y+1], mat[x,y], offset=-np.pi/2)\n",
    "                    U2block = U2BS\n",
    "                elif block == 'mzi':\n",
    "                    theta = np.pi/2 - atan2f(np.abs(mat[x,y]), np.abs(mat[x,y+1]))\n",
    "                    phi = angle_diff(mat[x,y+1], mat[x,y], offset=np.pi)\n",
    "                    U2block = U2MZI\n",
    "                mat = mat @ U2block(dim, y, y+1, phi, theta).conj().T\n",
    "                thetas[y, cnt_fore[y]] = theta\n",
    "                phis[y, cnt_fore[y]] = phi\n",
    "                cnt_fore[y] += 1\n",
    "            else:\n",
    "                x = dim - 1 - p + q\n",
    "                y = q\n",
    "                if block == 'bs':\n",
    "                    theta = atan2f(np.abs(mat[x,y]), np.abs(mat[x-1,y]))\n",
    "                    phi = angle_diff(mat[x-1,y], mat[x,y], offset=np.pi/2)\n",
    "                    U2block = U2BS\n",
    "                elif block == 'mzi':\n",
    "                    theta = np.pi/2 - atan2f(np.abs(mat[x,y]), np.abs(mat[x-1,y]))\n",
    "                    phi = angle_diff(mat[x-1,y], mat[x,y], offset=0)\n",
    "                    U2block = U2MZI\n",
    "                mat = U2block(dim, x-1, x, phi, theta) @ mat\n",
    "                thetas[x-1, cnt_back[x-1]] = theta\n",
    "                phis[x-1, cnt_back[x-1]] = phi\n",
    "                cnt_back[x-1] -= 1\n",
    "    for p in range(dim-2, -1, -1):\n",
    "        for q in range(p, -1, -1):\n",
    "            if p % 2 == 0:\n",
    "                continue\n",
    "            x = dim - 1 - p + q\n",
    "            y = q\n",
    "            cnt_back[x-1] += 1\n",
    "            theta = thetas[x-1, cnt_back[x-1]]\n",
    "            phi = phis[x-1, cnt_back[x-1]]\n",
    "            eta1 = mat[x-1, x-1]\n",
    "            eta2 = mat[x, x]\n",
    "            if block == 'bs':\n",
    "                phi_new = angle_diff(eta2, -eta1, offset=0)\n",
    "                mat[x-1, x-1] = eta1 * np.exp(-1j * (phi+phi_new))\n",
    "            elif block == 'mzi':\n",
    "                phi_new = angle_diff(eta2, eta1, offset=0)\n",
    "                mat[x-1, x-1] = -eta1 * np.exp(-1j * (phi+phi_new))\n",
    "                mat[x, x] = -eta2\n",
    "            phis[x-1, cnt_back[x-1]] = phi_new\n",
    "    for i in range(dim):\n",
    "        alphas[i] = np.angle(mat[i, i])\n",
    "    return phis, thetas, alphas\n",
    "\n",
    "\n",
    "def reconstruct_clements(phis, thetas, alphas, block='bs', Lp_dB=0, Lc_dB=0):\n",
    "    assert len(phis.squeeze().shape) == 2 or phis.size == 1\n",
    "    assert len(thetas.squeeze().shape) == 2 or thetas.size == 1\n",
    "    assert len(alphas.squeeze().shape) == 1\n",
    "    assert phis.squeeze().shape == thetas.squeeze().shape\n",
    "    assert isinstance(block, str) and block.strip().lower() in ['bs', 'mzi']\n",
    "    \n",
    "    if block == 'bs':\n",
    "        U2block = U2BS\n",
    "    elif block == 'mzi':\n",
    "        U2block = U2MZI\n",
    "    \n",
    "    if thetas.size == 1:\n",
    "        row = 1\n",
    "        col = 1\n",
    "    else:\n",
    "        row, col = thetas.squeeze().shape\n",
    "    dim = row + 1\n",
    "    num = int(dim * (dim - 1) / 2) \n",
    "    assert alphas.squeeze().shape[0] == dim\n",
    "    \n",
    "    Lp = 10 ** (Lp_dB / 10)\n",
    "    Lc = 10 ** (Lc_dB / 10)\n",
    "    \n",
    "    sft = np.diag(np.exp(1j * alphas))\n",
    "    mat = np.eye(dim)\n",
    "    for p in range(col):\n",
    "        for q in range(0, row, 2):\n",
    "            mat = U2block(dim, q, q+1, phis[q,p], thetas[q,p], Lp=Lp, Lc=Lc) @ mat\n",
    "        if p >= col - 1 and dim % 2 == 1:\n",
    "            continue\n",
    "        for q in range(1, row, 2):\n",
    "            mat = U2block(dim, q, q+1, phis[q,p], thetas[q,p], Lp=Lp, Lc=Lc) @ mat\n",
    "    mat = sft @ mat\n",
    "    return mat"
   ]
  },
  {
   "cell_type": "markdown",
   "id": "cb175b63",
   "metadata": {},
   "source": [
    "### Unit Test"
   ]
  },
  {
   "cell_type": "code",
   "execution_count": 27,
   "id": "c9a71a3d",
   "metadata": {
    "ExecuteTime": {
     "end_time": "2021-12-04T04:41:47.226583Z",
     "start_time": "2021-12-04T04:41:46.738679Z"
    }
   },
   "outputs": [
    {
     "name": "stdout",
     "output_type": "stream",
     "text": [
      "==== Unit Test ====\n",
      "Recovery from SVD:\t True\n",
      "Reck[BS] Test:\t\t True\n",
      "Reck[MZI] Test:\t\t True\n",
      "Clements[BS] Test:\t True\n",
      "Clements[MZI] Test:\t True\n"
     ]
    }
   ],
   "source": [
    "# Parameter To Test\n",
    "BOUND = 100\n",
    "MAT_ROW = 40\n",
    "MAT_COL = 50\n",
    "print('==== Unit Test ====')\n",
    "\n",
    "# Singular Value Decomposition\n",
    "mat = np.random.randint(-np.abs(BOUND), np.abs(BOUND), (MAT_ROW, MAT_COL))\n",
    "[u, s, v] = np.linalg.svd(mat, full_matrices=True)\n",
    "\n",
    "# Recovery from SVD\n",
    "print(f'Recovery from SVD:\\t {np.allclose(mat, u[:, :MAT_COL] @ np.diag(s) @ v[:MAT_ROW, :])}')\n",
    "\n",
    "# Reck BS\n",
    "[p, t, a] = decompose_reck(u, block='bs')\n",
    "reck_test = reconstruct_reck(p, t, a, block='bs')\n",
    "print(f'Reck[BS] Test:\\t\\t {np.allclose(reck_test, u)}')\n",
    "\n",
    "# Reck MZI\n",
    "[p, t, a] = decompose_reck(u, block='mzi')\n",
    "reck_test = reconstruct_reck(p, t, a, block='mzi')\n",
    "print(f'Reck[MZI] Test:\\t\\t {np.allclose(reck_test, u)}')\n",
    "\n",
    "# Clements BS\n",
    "[p, t, a] = decompose_clements(u, block='bs')\n",
    "clements_test = reconstruct_clements(p, t, a, block='bs')\n",
    "print(f'Clements[BS] Test:\\t {np.allclose(clements_test, u)}')\n",
    "\n",
    "# Clements MZI\n",
    "[p, t, a] = decompose_clements(u, block='mzi')\n",
    "clements_test = reconstruct_clements(p, t, a, block='mzi')\n",
    "print(f'Clements[MZI] Test:\\t {np.allclose(clements_test, u)}')"
   ]
  },
  {
   "cell_type": "markdown",
   "id": "686a24de",
   "metadata": {},
   "source": [
    "## CSD Unfolding Library for Universal Multiport Interferometers (UMI)\n",
    "\n",
    "API is shown as follows:\n",
    "\n",
    "```python\n",
    "class UmiCsd:\n",
    "    def decompose(matrix, p=None, q=None) -> None\n",
    "    def decompose_recursive(depth) -> None\n",
    "    def reconstruct(Lp_dB=0, Lc_dB=0, method='clements', block='bs') -> numpy.ndarray\n",
    "```"
   ]
  },
  {
   "cell_type": "code",
   "execution_count": 92,
   "id": "9c66851f",
   "metadata": {
    "ExecuteTime": {
     "end_time": "2021-12-04T06:10:16.619074Z",
     "start_time": "2021-12-04T06:10:16.589174Z"
    }
   },
   "outputs": [],
   "source": [
    "class UmiCsd:\n",
    "    def __init__(self, matrix=None, p=None, q=None):\n",
    "        self.u1 = None\n",
    "        self.u2 = None\n",
    "        self.theta = None\n",
    "        self.v1h = None\n",
    "        self.v2h = None\n",
    "        self.matrix = None\n",
    "        \n",
    "        if matrix is not None:\n",
    "            self.decompose(matrix, p, q)\n",
    "    \n",
    "    def __repr__(self):\n",
    "        return \"{}\".format(self.matrix)\n",
    "    \n",
    "    def form_cs(self, Lp_dB=0, Lc_dB=0, swap_sign=False):\n",
    "        cs = []\n",
    "        Lp = 10 ** (Lp_dB / 10)\n",
    "        Lc = 10 ** (Lc_dB / 10)\n",
    "        for t in self.theta:\n",
    "            tmp = np.array([\n",
    "                [np.sqrt(Lp) * np.cos(t), -np.sqrt(Lc) * np.sin(t)],\n",
    "                [np.sqrt(Lc) * np.sin(t), np.sqrt(Lp) * np.cos(t)]\n",
    "            ])\n",
    "            tmp = tmp.T if swap_sign else tmp\n",
    "            cs.append(tmp)\n",
    "        return cs\n",
    "    \n",
    "    @staticmethod\n",
    "    def rearrange_vector(vec1, vec2):\n",
    "        assert len(vec1) == len(vec2)\n",
    "        assert len(vec1) == vec1.size\n",
    "        assert len(vec2) == vec2.size\n",
    "        \n",
    "        N = len(vec1)\n",
    "        retval = []\n",
    "        for i in range(N):\n",
    "            tmp = np.concatenate((vec1[i], vec2[i])).reshape(2, 1)\n",
    "            retval.append(tmp)\n",
    "            \n",
    "        return retval\n",
    "    \n",
    "    def decompose(self, matrix, p=None, q=None):\n",
    "        assert matrix.ndim == 2, \"[ERROR] Dimension of Input Matrix is NOT 2.\"\n",
    "        assert np.allclose(matrix @ matrix.conj().T, np.eye(len(matrix))), \"[ERROR] Input Matrix is NOT Unitary.\"\n",
    "        \n",
    "        if p is None and q is None:\n",
    "            p = len(matrix) // 2\n",
    "            q = len(matrix) - p\n",
    "        elif p is None:\n",
    "            p = len(matrix) - q\n",
    "        elif q is None:\n",
    "            q = len(matrix) - p\n",
    "            \n",
    "        self.matrix = matrix\n",
    "        (self.u1, self.u2), self.theta, (self.v1h, self.v2h) = cossin(matrix, p=p, q=q, separate=True)\n",
    "    \n",
    "    def decompose_recursive(self, depth):\n",
    "        def check_and_csd(mat, d):\n",
    "            if isinstance(mat, np.ndarray):\n",
    "                if len(mat) <= 2:\n",
    "                    return mat\n",
    "                if d > 0:\n",
    "                    ret = UmiCsd(mat)\n",
    "                    ret.decompose_recursive(d-1)\n",
    "                    return ret\n",
    "                else:\n",
    "                    return UmiCsd(mat)\n",
    "            elif isinstance(mat, UmiCsd):\n",
    "                return mat\n",
    "            else:\n",
    "                raise \"[ERROR] Not Supported Type in func<decompose_recursive>.\"\n",
    "        \n",
    "        self.u1 = check_and_csd(self.u1, depth-1)\n",
    "        self.u2 = check_and_csd(self.u2, depth-1)\n",
    "        self.v1h = check_and_csd(self.v1h, depth-1)\n",
    "        self.v2h = check_and_csd(self.v2h, depth-1)\n",
    "        \n",
    "    def reconstruct(self, Lp_dB=0, Lc_dB=0, method='clements', block='bs'):\n",
    "        assert method.lower() in ['reck', 'clements']\n",
    "        assert block.lower() in ['bs', 'mzi']\n",
    "        if method.lower() == 'reck':\n",
    "            planar_decompose = decompose_reck\n",
    "            planar_reconstruct = reconstruct_reck\n",
    "        elif method.lower() == 'clements':\n",
    "            planar_decompose = decompose_clements\n",
    "            planar_reconstruct = reconstruct_clements\n",
    "        \n",
    "        def check_and_rcs(mat):\n",
    "            if isinstance(mat, np.ndarray):\n",
    "                if len(mat) < 2:\n",
    "                    return mat\n",
    "                [p, t, a] = planar_decompose(mat, block=block.lower())\n",
    "                return planar_reconstruct(p, t, a, block=block.lower(), Lp_dB=Lp_dB, Lc_dB=Lc_dB)\n",
    "            elif isinstance(mat, UmiCsd):\n",
    "                return mat.reconstruct(Lp_dB=Lp_dB, Lc_dB=Lc_dB, method=method, block=block)\n",
    "            else:\n",
    "                raise \"[Error] Not Supported Type in func<reconstruct>.\"\n",
    "                \n",
    "        _u1 = check_and_rcs(self.u1)\n",
    "        _u2 = check_and_rcs(self.u2)\n",
    "        _v1h = check_and_rcs(self.v1h)\n",
    "        _v2h = check_and_rcs(self.v2h)\n",
    "        \n",
    "        Lp = 10 ** (Lp_dB / 10)\n",
    "        Lc = 10 ** (Lc_dB / 10)\n",
    "        \n",
    "        def bridge_matrix(factor, value, cs, m1, m2):\n",
    "            assert cs in ['sin', 'cos']\n",
    "            if cs == 'sin':\n",
    "                ops = np.sin\n",
    "            elif cs == 'cos':\n",
    "                ops = np.cos\n",
    "            \n",
    "            m = np.eye(m1.shape[1] if m1.shape[1] >= m2.shape[0] else m2.shape[0])\n",
    "            l = len(value)\n",
    "            m[:l, :l] = factor * np.diag(ops(value))\n",
    "            return m[:m1.shape[1], :m2.shape[0]]\n",
    "        \n",
    "        _cs11 = bridge_matrix(np.sqrt(Lp), self.theta, 'cos', _u1, _v1h)\n",
    "        _cs12 = bridge_matrix(np.sqrt(Lc), -self.theta, 'sin', _u1, _v2h)\n",
    "        _cs21 = bridge_matrix(np.sqrt(Lc), self.theta, 'sin', _u2, _v1h)\n",
    "        _cs22 = bridge_matrix(np.sqrt(Lp), self.theta, 'cos', _u2, _v2h)\n",
    "        \n",
    "        _b11 = _u1 @ _cs11 @ _v1h\n",
    "        _b12 = _u1 @ _cs12 @ _v2h\n",
    "        _b21 = _u2 @ _cs21 @ _v1h\n",
    "        _b22 = _u2 @ _cs22 @ _v2h\n",
    "            \n",
    "        return np.block([[_b11, _b12], [_b21, _b22]])  "
   ]
  },
  {
   "cell_type": "markdown",
   "id": "4f79bd86",
   "metadata": {},
   "source": [
    "### Unit Test"
   ]
  },
  {
   "cell_type": "code",
   "execution_count": 99,
   "id": "859073a2",
   "metadata": {
    "ExecuteTime": {
     "end_time": "2021-12-04T06:29:03.035420Z",
     "start_time": "2021-12-04T06:28:31.883047Z"
    }
   },
   "outputs": [
    {
     "name": "stdout",
     "output_type": "stream",
     "text": [
      "[PASS] UmiCsd passes Unit Test.\n"
     ]
    }
   ],
   "source": [
    "import random\n",
    "\n",
    "DEPTH_MIN = 0\n",
    "DEPTH_MAX = 20\n",
    "\n",
    "for i in range(3, 101):\n",
    "    test_unitary = unitary_group.rvs(i)\n",
    "\n",
    "    umi = UmiCsd(test_unitary)\n",
    "    umi.decompose_recursive(depth=random.randint(DEPTH_MIN, DEPTH_MAX))\n",
    "    assert np.allclose(test_unitary, umi.reconstruct(block='bs')), \"[FAIL] UmiCsd fails Unit Test in block='bs'.\"\n",
    "    assert np.allclose(test_unitary, umi.reconstruct(block='mzi')), \"[FAIL] UmiCsd fails Unit Test in block='mzi'.\"\n",
    "\n",
    "print(\"[PASS] UmiCsd passes Unit Test.\")"
   ]
  },
  {
   "cell_type": "markdown",
   "id": "c407820c",
   "metadata": {
    "ExecuteTime": {
     "end_time": "2021-12-03T11:56:37.480875Z",
     "start_time": "2021-12-03T11:56:37.476138Z"
    }
   },
   "source": [
    "## Fidelity Comparison"
   ]
  },
  {
   "cell_type": "code",
   "execution_count": 102,
   "id": "1fac1d19",
   "metadata": {
    "ExecuteTime": {
     "end_time": "2021-12-04T06:36:05.012119Z",
     "start_time": "2021-12-04T06:33:57.041004Z"
    }
   },
   "outputs": [
    {
     "data": {
      "image/png": "[encoded data removed]",
      "text/plain": [
       "<Figure size 1800x1200 with 1 Axes>"
      ]
     },
     "metadata": {
      "needs_background": "light"
     },
     "output_type": "display_data"
    }
   ],
   "source": [
    "# System Configurations and Parameters\n",
    "NUM_MODE = 31\n",
    "Lp_dB = -0.01\n",
    "Lc_dB = -0.1\n",
    "COUNT = 100 #Setting 100 will Need 1.89 Hours to run\n",
    "\n",
    "# Buffers to store the data for drawings\n",
    "fidelity = np.zeros((NUM_MODE, 1))\n",
    "\n",
    "# Setup for Matplotlib\n",
    "plt.rcParams[\"font.family\"] = \"Times New Roman\"\n",
    "plt.rcParams[\"font.weight\"] = \"normal\"\n",
    "plt.rcParams[\"font.size\"] = 12\n",
    "plt.figure(dpi=300)\n",
    "x = range(3, NUM_MODE)\n",
    "\n",
    "# Sweep Parameters [Reck]\n",
    "for i in range(3, NUM_MODE):\n",
    "    statistic = 0.0\n",
    "    for _ in range(COUNT):\n",
    "        mat = np.random.randn(i, i)\n",
    "        [u, s, v] = np.linalg.svd(mat, full_matrices=True)\n",
    "        [p, t, a] = decompose_reck(u, block='mzi')\n",
    "        Ue = reconstruct_reck(p, t, a, block='mzi', Lp_dB=Lp_dB, Lc_dB=Lc_dB)\n",
    "        statistic += np.abs(np.trace(u.conj().T @ Ue) / np.sqrt(i * np.trace(Ue.conj().T @ Ue))) ** 2\n",
    "    fidelity[i] = statistic / COUNT\n",
    "\n",
    "# Annotate Setup\n",
    "y_reck = fidelity[3:NUM_MODE].copy()\n",
    "plt.plot(x, y_reck, 's', markersize=2)\n",
    "\n",
    "# Sweep Parameters [Clements]\n",
    "for i in range(3, NUM_MODE):\n",
    "    statistic = 0.0\n",
    "    for _ in range(COUNT):\n",
    "        mat = np.random.randn(i, i)\n",
    "        [u, s, v] = np.linalg.svd(mat, full_matrices=True)\n",
    "        [p, t, a] = decompose_clements(u, block='mzi')\n",
    "        Ue = reconstruct_clements(p, t, a, block='mzi', Lp_dB=Lp_dB, Lc_dB=Lc_dB)\n",
    "        statistic += np.abs(np.trace(u.conj().T @ Ue) / np.sqrt(i * np.trace(Ue.conj().T @ Ue))) ** 2\n",
    "    fidelity[i] = statistic / COUNT\n",
    "\n",
    "# Annotate Setup\n",
    "y_clements = fidelity[3:NUM_MODE].copy()\n",
    "plt.plot(x, y_clements, '^', markersize=2)\n",
    "\n",
    "# Sweep Parameters [Our]\n",
    "for i in range(3, NUM_MODE):\n",
    "    statistic = 0.0\n",
    "    for _ in range(COUNT):\n",
    "        mat = np.random.randn(i, i)\n",
    "        [u, s, v] = np.linalg.svd(mat, full_matrices=True)\n",
    "        umi = UmiCsd(u)\n",
    "        umi.decompose_recursive(depth=i)\n",
    "        Ue = umi.reconstruct(block='mzi', Lp_dB=Lp_dB, Lc_dB=Lc_dB)\n",
    "        statistic += np.abs(np.trace(u.conj().T @ Ue) / np.sqrt(i * np.trace(Ue.conj().T @ Ue))) ** 2\n",
    "    fidelity[i] = statistic / COUNT\n",
    "\n",
    "# Annotate Setup\n",
    "y_our = fidelity[3:NUM_MODE].copy()\n",
    "plt.plot(x, y_our, 'o', markersize=2)\n",
    "\n",
    "# Decorate Figures\n",
    "plt.xlabel('Number of modes', fontsize=14)\n",
    "plt.ylabel('Fidelity', fontsize=14)\n",
    "plt.legend(['Reck', 'Clements', 'Our'])\n",
    "\n",
    "plt.show()"
   ]
  }
 ],
 "metadata": {
  "kernelspec": {
   "display_name": "Python(ML)",
   "language": "python",
   "name": "ml"
  },
  "language_info": {
   "codemirror_mode": {
    "name": "ipython",
    "version": 3
   },
   "file_extension": ".py",
   "mimetype": "text/x-python",
   "name": "python",
   "nbconvert_exporter": "python",
   "pygments_lexer": "ipython3",
   "version": "3.6.7"
  },
  "toc": {
   "base_numbering": 1,
   "nav_menu": {},
   "number_sections": true,
   "sideBar": true,
   "skip_h1_title": false,
   "title_cell": "Table of Contents",
   "title_sidebar": "Contents",
   "toc_cell": false,
   "toc_position": {},
   "toc_section_display": true,
   "toc_window_display": false
  },
  "varInspector": {
   "cols": {
    "lenName": 16,
    "lenType": 16,
    "lenVar": 40
   },
   "kernels_config": {
    "python": {
     "delete_cmd_postfix": "",
     "delete_cmd_prefix": "del ",
     "library": "var_list.py",
     "varRefreshCmd": "print(var_dic_list())"
    },
    "r": {
     "delete_cmd_postfix": ") ",
     "delete_cmd_prefix": "rm(",
     "library": "var_list.r",
     "varRefreshCmd": "cat(var_dic_list()) "
    }
   },
   "types_to_exclude": [
    "module",
    "function",
    "builtin_function_or_method",
    "instance",
    "_Feature"
   ],
   "window_display": false
  }
 },
 "nbformat": 4,
 "nbformat_minor": 5
}
